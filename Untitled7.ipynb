{
 "cells": [
  {
   "cell_type": "code",
   "execution_count": 1,
   "id": "124686da",
   "metadata": {},
   "outputs": [],
   "source": [
    "name=\"string\""
   ]
  },
  {
   "cell_type": "code",
   "execution_count": 10,
   "id": "22a95b32",
   "metadata": {},
   "outputs": [],
   "source": [
    "def reverse_strng(name):\n",
    "    for i in range(0,len(name)//2):\n",
    "        print(name)\n",
    "        name[i],name[len(name)-1-i]=name[len(name)-1-i],name[i]\n",
    "        \n",
    "        "
   ]
  },
  {
   "cell_type": "code",
   "execution_count": 25,
   "id": "baa693a4",
   "metadata": {},
   "outputs": [],
   "source": [
    "def reverse(name):\n",
    "    str_=''\n",
    "    for i in range(0,len(name)):\n",
    "        str_=str_+name[len(name)-1-i]\n",
    "        #print(str_)\n",
    "    print(str_)    \n",
    "        \n",
    "    "
   ]
  },
  {
   "cell_type": "code",
   "execution_count": 26,
   "id": "57779067",
   "metadata": {},
   "outputs": [
    {
     "name": "stdout",
     "output_type": "stream",
     "text": [
      "gnirts\n"
     ]
    }
   ],
   "source": [
    "reverse(name)"
   ]
  },
  {
   "cell_type": "code",
   "execution_count": null,
   "id": "eef8172d",
   "metadata": {},
   "outputs": [],
   "source": []
  }
 ],
 "metadata": {
  "kernelspec": {
   "display_name": "Python 3 (ipykernel)",
   "language": "python",
   "name": "python3"
  },
  "language_info": {
   "codemirror_mode": {
    "name": "ipython",
    "version": 3
   },
   "file_extension": ".py",
   "mimetype": "text/x-python",
   "name": "python",
   "nbconvert_exporter": "python",
   "pygments_lexer": "ipython3",
   "version": "3.9.12"
  }
 },
 "nbformat": 4,
 "nbformat_minor": 5
}
