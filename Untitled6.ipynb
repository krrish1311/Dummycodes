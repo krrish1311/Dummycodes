{
 "cells": [
  {
   "cell_type": "code",
   "execution_count": 34,
   "id": "dd38d1b1",
   "metadata": {},
   "outputs": [
    {
     "ename": "TypeError",
     "evalue": "object of type 'int' has no len()",
     "output_type": "error",
     "traceback": [
      "\u001b[1;31m---------------------------------------------------------------------------\u001b[0m",
      "\u001b[1;31mTypeError\u001b[0m                                 Traceback (most recent call last)",
      "Input \u001b[1;32mIn [34]\u001b[0m, in \u001b[0;36m<cell line: 2>\u001b[1;34m()\u001b[0m\n\u001b[0;32m      1\u001b[0m num\u001b[38;5;241m=\u001b[39m\u001b[38;5;241m4567\u001b[39m\n\u001b[1;32m----> 2\u001b[0m \u001b[38;5;28;43mlen\u001b[39;49m\u001b[43m(\u001b[49m\u001b[43mnum\u001b[49m\u001b[43m)\u001b[49m\n",
      "\u001b[1;31mTypeError\u001b[0m: object of type 'int' has no len()"
     ]
    }
   ],
   "source": [
    "num=123\n"
   ]
  },
  {
   "cell_type": "code",
   "execution_count": 4,
   "id": "0e2576da",
   "metadata": {},
   "outputs": [],
   "source": [
    "strng=str(num)"
   ]
  },
  {
   "cell_type": "code",
   "execution_count": 8,
   "id": "c3e79ae0",
   "metadata": {},
   "outputs": [],
   "source": [
    "length=len(strng)"
   ]
  },
  {
   "cell_type": "code",
   "execution_count": 20,
   "id": "0fe5e500",
   "metadata": {},
   "outputs": [],
   "source": [
    "def average(num):\n",
    "    st=str(num)\n",
    "    length=len(st)\n",
    "    avg=(int(st[1])+int(st[2]))//2\n",
    "    return avg"
   ]
  },
  {
   "cell_type": "code",
   "execution_count": 21,
   "id": "291c1686",
   "metadata": {},
   "outputs": [
    {
     "data": {
      "text/plain": [
       "5"
      ]
     },
     "execution_count": 21,
     "metadata": {},
     "output_type": "execute_result"
    }
   ],
   "source": [
    "average(num)"
   ]
  },
  {
   "cell_type": "code",
   "execution_count": 22,
   "id": "c6b822dc",
   "metadata": {},
   "outputs": [
    {
     "name": "stdout",
     "output_type": "stream",
     "text": [
      "5.993709507524806\n"
     ]
    }
   ],
   "source": [
    "import math\n",
    "n=98562\n",
    "d=math.log10(n)+1\n",
    "print(d)"
   ]
  },
  {
   "cell_type": "code",
   "execution_count": 29,
   "id": "82559197",
   "metadata": {},
   "outputs": [],
   "source": [
    "def average(num):\n",
    "    st=str(num)\n",
    "    length=len(st)\n",
    "    if length%2==0:\n",
    "        \n",
    "        mid=length//2\n",
    "        avg=(int(st[mid])+int(st[mid-1]))//2\n",
    "    else:\n",
    "        mid=length//2\n",
    "        avg=(int(st[mid])+int(st[mid+1])+int(st[mid-1]))//3\n",
    "    \n",
    "    return avg"
   ]
  },
  {
   "cell_type": "code",
   "execution_count": 30,
   "id": "e8f50282",
   "metadata": {},
   "outputs": [
    {
     "data": {
      "text/plain": [
       "5"
      ]
     },
     "execution_count": 30,
     "metadata": {},
     "output_type": "execute_result"
    }
   ],
   "source": [
    "average(num)"
   ]
  },
  {
   "cell_type": "code",
   "execution_count": 31,
   "id": "29a5c93b",
   "metadata": {},
   "outputs": [
    {
     "data": {
      "text/plain": [
       "3"
      ]
     },
     "execution_count": 31,
     "metadata": {},
     "output_type": "execute_result"
    }
   ],
   "source": [
    "average(12345)"
   ]
  },
  {
   "cell_type": "code",
   "execution_count": 32,
   "id": "0b621ec9",
   "metadata": {},
   "outputs": [
    {
     "data": {
      "text/plain": [
       "7"
      ]
     },
     "execution_count": 32,
     "metadata": {},
     "output_type": "execute_result"
    }
   ],
   "source": [
    "average(56789)"
   ]
  },
  {
   "cell_type": "code",
   "execution_count": 33,
   "id": "ca44ac94",
   "metadata": {},
   "outputs": [
    {
     "data": {
      "text/plain": [
       "4"
      ]
     },
     "execution_count": 33,
     "metadata": {},
     "output_type": "execute_result"
    }
   ],
   "source": [
    "average(1234567)"
   ]
  },
  {
   "cell_type": "code",
   "execution_count": null,
   "id": "ca65e901",
   "metadata": {},
   "outputs": [],
   "source": [
    "average(12345678)"
   ]
  }
 ],
 "metadata": {
  "kernelspec": {
   "display_name": "Python 3 (ipykernel)",
   "language": "python",
   "name": "python3"
  },
  "language_info": {
   "codemirror_mode": {
    "name": "ipython",
    "version": 3
   },
   "file_extension": ".py",
   "mimetype": "text/x-python",
   "name": "python",
   "nbconvert_exporter": "python",
   "pygments_lexer": "ipython3",
   "version": "3.9.12"
  }
 },
 "nbformat": 4,
 "nbformat_minor": 5
}
